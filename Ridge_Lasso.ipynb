{
 "cells": [
  {
   "cell_type": "markdown",
   "metadata": {
    "colab_type": "text",
    "id": "-TrUvmyK-GpM"
   },
   "source": [
    "# Régression Régularisées : RIDGE\n"
   ]
  },
  {
   "cell_type": "markdown",
   "metadata": {
    "colab_type": "text",
    "id": "GhO_GXwS-XDS"
   },
   "source": [
    "0. Importez les libairies usuelles "
   ]
  },
  {
   "cell_type": "code",
   "execution_count": 111,
   "metadata": {
    "colab": {},
    "colab_type": "code",
    "id": "nmzm6Lsf-ZvO"
   },
   "outputs": [],
   "source": [
    "import pandas as pd \n",
    "import numpy as np \n",
    "import matplotlib.pyplot as plt \n",
    "import seaborn as sns"
   ]
  },
  {
   "cell_type": "markdown",
   "metadata": {
    "colab_type": "text",
    "id": "t-4QtpM5-LW4"
   },
   "source": [
    "  1. Chargez en mémoire le dataset des prix des logements à boston grâce à la commande :\n",
    "  \n",
    " \n",
    "```\n",
    "from sklearn.datasets import load_boston\n",
    "boston=load_boston()\n",
    "boston_df=pd.DataFrame(boston.data,columns=boston.feature_names)\n",
    "```"
   ]
  },
  {
   "cell_type": "code",
   "execution_count": 112,
   "metadata": {
    "colab": {
     "base_uri": "https://localhost:8080/",
     "height": 198
    },
    "colab_type": "code",
    "executionInfo": {
     "elapsed": 1529,
     "status": "ok",
     "timestamp": 1569445773789,
     "user": {
      "displayName": "Marc de Forsanz",
      "photoUrl": "",
      "userId": "12193141439046110193"
     },
     "user_tz": -120
    },
    "id": "iBuo8tZ0-BsL",
    "outputId": "230dd9cd-a749-4035-d10c-4d9481db9466"
   },
   "outputs": [
    {
     "data": {
      "text/html": [
       "<div>\n",
       "<style scoped>\n",
       "    .dataframe tbody tr th:only-of-type {\n",
       "        vertical-align: middle;\n",
       "    }\n",
       "\n",
       "    .dataframe tbody tr th {\n",
       "        vertical-align: top;\n",
       "    }\n",
       "\n",
       "    .dataframe thead th {\n",
       "        text-align: right;\n",
       "    }\n",
       "</style>\n",
       "<table border=\"1\" class=\"dataframe\">\n",
       "  <thead>\n",
       "    <tr style=\"text-align: right;\">\n",
       "      <th></th>\n",
       "      <th>CRIM</th>\n",
       "      <th>ZN</th>\n",
       "      <th>INDUS</th>\n",
       "      <th>CHAS</th>\n",
       "      <th>NOX</th>\n",
       "      <th>RM</th>\n",
       "      <th>AGE</th>\n",
       "      <th>DIS</th>\n",
       "      <th>RAD</th>\n",
       "      <th>TAX</th>\n",
       "      <th>PTRATIO</th>\n",
       "      <th>B</th>\n",
       "      <th>LSTAT</th>\n",
       "    </tr>\n",
       "  </thead>\n",
       "  <tbody>\n",
       "    <tr>\n",
       "      <th>0</th>\n",
       "      <td>0.00632</td>\n",
       "      <td>18.0</td>\n",
       "      <td>2.31</td>\n",
       "      <td>0.0</td>\n",
       "      <td>0.538</td>\n",
       "      <td>6.575</td>\n",
       "      <td>65.2</td>\n",
       "      <td>4.0900</td>\n",
       "      <td>1.0</td>\n",
       "      <td>296.0</td>\n",
       "      <td>15.3</td>\n",
       "      <td>396.90</td>\n",
       "      <td>4.98</td>\n",
       "    </tr>\n",
       "    <tr>\n",
       "      <th>1</th>\n",
       "      <td>0.02731</td>\n",
       "      <td>0.0</td>\n",
       "      <td>7.07</td>\n",
       "      <td>0.0</td>\n",
       "      <td>0.469</td>\n",
       "      <td>6.421</td>\n",
       "      <td>78.9</td>\n",
       "      <td>4.9671</td>\n",
       "      <td>2.0</td>\n",
       "      <td>242.0</td>\n",
       "      <td>17.8</td>\n",
       "      <td>396.90</td>\n",
       "      <td>9.14</td>\n",
       "    </tr>\n",
       "    <tr>\n",
       "      <th>2</th>\n",
       "      <td>0.02729</td>\n",
       "      <td>0.0</td>\n",
       "      <td>7.07</td>\n",
       "      <td>0.0</td>\n",
       "      <td>0.469</td>\n",
       "      <td>7.185</td>\n",
       "      <td>61.1</td>\n",
       "      <td>4.9671</td>\n",
       "      <td>2.0</td>\n",
       "      <td>242.0</td>\n",
       "      <td>17.8</td>\n",
       "      <td>392.83</td>\n",
       "      <td>4.03</td>\n",
       "    </tr>\n",
       "    <tr>\n",
       "      <th>3</th>\n",
       "      <td>0.03237</td>\n",
       "      <td>0.0</td>\n",
       "      <td>2.18</td>\n",
       "      <td>0.0</td>\n",
       "      <td>0.458</td>\n",
       "      <td>6.998</td>\n",
       "      <td>45.8</td>\n",
       "      <td>6.0622</td>\n",
       "      <td>3.0</td>\n",
       "      <td>222.0</td>\n",
       "      <td>18.7</td>\n",
       "      <td>394.63</td>\n",
       "      <td>2.94</td>\n",
       "    </tr>\n",
       "    <tr>\n",
       "      <th>4</th>\n",
       "      <td>0.06905</td>\n",
       "      <td>0.0</td>\n",
       "      <td>2.18</td>\n",
       "      <td>0.0</td>\n",
       "      <td>0.458</td>\n",
       "      <td>7.147</td>\n",
       "      <td>54.2</td>\n",
       "      <td>6.0622</td>\n",
       "      <td>3.0</td>\n",
       "      <td>222.0</td>\n",
       "      <td>18.7</td>\n",
       "      <td>396.90</td>\n",
       "      <td>5.33</td>\n",
       "    </tr>\n",
       "  </tbody>\n",
       "</table>\n",
       "</div>"
      ],
      "text/plain": [
       "      CRIM    ZN  INDUS  CHAS    NOX     RM   AGE     DIS  RAD    TAX  \\\n",
       "0  0.00632  18.0   2.31   0.0  0.538  6.575  65.2  4.0900  1.0  296.0   \n",
       "1  0.02731   0.0   7.07   0.0  0.469  6.421  78.9  4.9671  2.0  242.0   \n",
       "2  0.02729   0.0   7.07   0.0  0.469  7.185  61.1  4.9671  2.0  242.0   \n",
       "3  0.03237   0.0   2.18   0.0  0.458  6.998  45.8  6.0622  3.0  222.0   \n",
       "4  0.06905   0.0   2.18   0.0  0.458  7.147  54.2  6.0622  3.0  222.0   \n",
       "\n",
       "   PTRATIO       B  LSTAT  \n",
       "0     15.3  396.90   4.98  \n",
       "1     17.8  396.90   9.14  \n",
       "2     17.8  392.83   4.03  \n",
       "3     18.7  394.63   2.94  \n",
       "4     18.7  396.90   5.33  "
      ]
     },
     "execution_count": 112,
     "metadata": {},
     "output_type": "execute_result"
    }
   ],
   "source": [
    "from sklearn.datasets import load_boston\n",
    "boston=load_boston()\n",
    "boston_df=pd.DataFrame(boston.data,columns=boston.feature_names)\n",
    "boston_df.head()"
   ]
  },
  {
   "cell_type": "code",
   "execution_count": 113,
   "metadata": {},
   "outputs": [
    {
     "data": {
      "text/plain": [
       "506"
      ]
     },
     "execution_count": 113,
     "metadata": {},
     "output_type": "execute_result"
    }
   ],
   "source": [
    "len(boston_df)"
   ]
  },
  {
   "cell_type": "code",
   "execution_count": 114,
   "metadata": {
    "colab": {
     "base_uri": "https://localhost:8080/",
     "height": 918
    },
    "colab_type": "code",
    "executionInfo": {
     "elapsed": 1529,
     "status": "ok",
     "timestamp": 1569445773797,
     "user": {
      "displayName": "Marc de Forsanz",
      "photoUrl": "",
      "userId": "12193141439046110193"
     },
     "user_tz": -120
    },
    "id": "TpGM2HVoryVP",
    "outputId": "31ad7f5f-ed50-44a1-e70f-8001f7de422f"
   },
   "outputs": [
    {
     "name": "stdout",
     "output_type": "stream",
     "text": [
      ".. _boston_dataset:\n",
      "\n",
      "Boston house prices dataset\n",
      "---------------------------\n",
      "\n",
      "**Data Set Characteristics:**  \n",
      "\n",
      "    :Number of Instances: 506 \n",
      "\n",
      "    :Number of Attributes: 13 numeric/categorical predictive. Median Value (attribute 14) is usually the target.\n",
      "\n",
      "    :Attribute Information (in order):\n",
      "        - CRIM     per capita crime rate by town\n",
      "        - ZN       proportion of residential land zoned for lots over 25,000 sq.ft.\n",
      "        - INDUS    proportion of non-retail business acres per town\n",
      "        - CHAS     Charles River dummy variable (= 1 if tract bounds river; 0 otherwise)\n",
      "        - NOX      nitric oxides concentration (parts per 10 million)\n",
      "        - RM       average number of rooms per dwelling\n",
      "        - AGE      proportion of owner-occupied units built prior to 1940\n",
      "        - DIS      weighted distances to five Boston employment centres\n",
      "        - RAD      index of accessibility to radial highways\n",
      "        - TAX      full-value property-tax rate per $10,000\n",
      "        - PTRATIO  pupil-teacher ratio by town\n",
      "        - B        1000(Bk - 0.63)^2 where Bk is the proportion of blacks by town\n",
      "        - LSTAT    % lower status of the population\n",
      "        - MEDV     Median value of owner-occupied homes in $1000's\n",
      "\n",
      "    :Missing Attribute Values: None\n",
      "\n",
      "    :Creator: Harrison, D. and Rubinfeld, D.L.\n",
      "\n",
      "This is a copy of UCI ML housing dataset.\n",
      "https://archive.ics.uci.edu/ml/machine-learning-databases/housing/\n",
      "\n",
      "\n",
      "This dataset was taken from the StatLib library which is maintained at Carnegie Mellon University.\n",
      "\n",
      "The Boston house-price data of Harrison, D. and Rubinfeld, D.L. 'Hedonic\n",
      "prices and the demand for clean air', J. Environ. Economics & Management,\n",
      "vol.5, 81-102, 1978.   Used in Belsley, Kuh & Welsch, 'Regression diagnostics\n",
      "...', Wiley, 1980.   N.B. Various transformations are used in the table on\n",
      "pages 244-261 of the latter.\n",
      "\n",
      "The Boston house-price data has been used in many machine learning papers that address regression\n",
      "problems.   \n",
      "     \n",
      ".. topic:: References\n",
      "\n",
      "   - Belsley, Kuh & Welsch, 'Regression diagnostics: Identifying Influential Data and Sources of Collinearity', Wiley, 1980. 244-261.\n",
      "   - Quinlan,R. (1993). Combining Instance-Based and Model-Based Learning. In Proceedings on the Tenth International Conference of Machine Learning, 236-243, University of Massachusetts, Amherst. Morgan Kaufmann.\n",
      "\n"
     ]
    }
   ],
   "source": [
    "print(boston.DESCR)"
   ]
  },
  {
   "cell_type": "code",
   "execution_count": 115,
   "metadata": {
    "colab": {
     "base_uri": "https://localhost:8080/",
     "height": 190
    },
    "colab_type": "code",
    "executionInfo": {
     "elapsed": 1526,
     "status": "ok",
     "timestamp": 1569445773800,
     "user": {
      "displayName": "Marc de Forsanz",
      "photoUrl": "",
      "userId": "12193141439046110193"
     },
     "user_tz": -120
    },
    "id": "nw_c1ROJr8rx",
    "outputId": "11439b73-7606-4122-a161-ad9a01fe08e2"
   },
   "outputs": [
    {
     "data": {
      "text/plain": [
       "24.0    132\n",
       "5.0     115\n",
       "4.0     110\n",
       "3.0      38\n",
       "6.0      26\n",
       "8.0      24\n",
       "2.0      24\n",
       "1.0      20\n",
       "7.0      17\n",
       "Name: RAD, dtype: int64"
      ]
     },
     "execution_count": 115,
     "metadata": {},
     "output_type": "execute_result"
    }
   ],
   "source": [
    "boston_df[\"RAD\"].value_counts()"
   ]
  },
  {
   "cell_type": "markdown",
   "metadata": {
    "colab_type": "text",
    "id": "whqaTzyw-lpr"
   },
   "source": [
    "  2. Créez un dataframe contenant les variables explicatives et un autre contenant uniquement la variable cible qui est le prix des maisons"
   ]
  },
  {
   "cell_type": "code",
   "execution_count": 116,
   "metadata": {
    "colab": {
     "base_uri": "https://localhost:8080/",
     "height": 198
    },
    "colab_type": "code",
    "executionInfo": {
     "elapsed": 1523,
     "status": "ok",
     "timestamp": 1569445773803,
     "user": {
      "displayName": "Marc de Forsanz",
      "photoUrl": "",
      "userId": "12193141439046110193"
     },
     "user_tz": -120
    },
    "id": "zoFLJeNK-gxL",
    "outputId": "e0374365-1304-4880-c30d-413246aa03ca"
   },
   "outputs": [
    {
     "data": {
      "text/html": [
       "<div>\n",
       "<style scoped>\n",
       "    .dataframe tbody tr th:only-of-type {\n",
       "        vertical-align: middle;\n",
       "    }\n",
       "\n",
       "    .dataframe tbody tr th {\n",
       "        vertical-align: top;\n",
       "    }\n",
       "\n",
       "    .dataframe thead th {\n",
       "        text-align: right;\n",
       "    }\n",
       "</style>\n",
       "<table border=\"1\" class=\"dataframe\">\n",
       "  <thead>\n",
       "    <tr style=\"text-align: right;\">\n",
       "      <th></th>\n",
       "      <th>prices</th>\n",
       "    </tr>\n",
       "  </thead>\n",
       "  <tbody>\n",
       "    <tr>\n",
       "      <th>0</th>\n",
       "      <td>24.0</td>\n",
       "    </tr>\n",
       "    <tr>\n",
       "      <th>1</th>\n",
       "      <td>21.6</td>\n",
       "    </tr>\n",
       "    <tr>\n",
       "      <th>2</th>\n",
       "      <td>34.7</td>\n",
       "    </tr>\n",
       "    <tr>\n",
       "      <th>3</th>\n",
       "      <td>33.4</td>\n",
       "    </tr>\n",
       "    <tr>\n",
       "      <th>4</th>\n",
       "      <td>36.2</td>\n",
       "    </tr>\n",
       "  </tbody>\n",
       "</table>\n",
       "</div>"
      ],
      "text/plain": [
       "   prices\n",
       "0    24.0\n",
       "1    21.6\n",
       "2    34.7\n",
       "3    33.4\n",
       "4    36.2"
      ]
     },
     "execution_count": 116,
     "metadata": {},
     "output_type": "execute_result"
    }
   ],
   "source": [
    "y = pd.DataFrame(boston.target, columns=[\"prices\"])\n",
    "y.head()"
   ]
  },
  {
   "cell_type": "markdown",
   "metadata": {
    "colab_type": "text",
    "id": "lC9PW2vu_h0v"
   },
   "source": [
    "3. Utilisez la commande `train_test_split ` du package `sklearn.model_selection`  afin de créer un échantillon d’entraînement contenant 70% des observations et un échantillon test contenant 30% des observations."
   ]
  },
  {
   "cell_type": "code",
   "execution_count": 153,
   "metadata": {
    "colab": {
     "base_uri": "https://localhost:8080/",
     "height": 308
    },
    "colab_type": "code",
    "executionInfo": {
     "elapsed": 1521,
     "status": "ok",
     "timestamp": 1569445773807,
     "user": {
      "displayName": "Marc de Forsanz",
      "photoUrl": "",
      "userId": "12193141439046110193"
     },
     "user_tz": -120
    },
    "id": "9xdJd9sz_fOX",
    "outputId": "c765a441-bd03-45ba-daf6-0f5959e8f927"
   },
   "outputs": [
    {
     "data": {
      "text/html": [
       "<div>\n",
       "<style scoped>\n",
       "    .dataframe tbody tr th:only-of-type {\n",
       "        vertical-align: middle;\n",
       "    }\n",
       "\n",
       "    .dataframe tbody tr th {\n",
       "        vertical-align: top;\n",
       "    }\n",
       "\n",
       "    .dataframe thead th {\n",
       "        text-align: right;\n",
       "    }\n",
       "</style>\n",
       "<table border=\"1\" class=\"dataframe\">\n",
       "  <thead>\n",
       "    <tr style=\"text-align: right;\">\n",
       "      <th></th>\n",
       "      <th>0</th>\n",
       "      <th>1</th>\n",
       "      <th>2</th>\n",
       "      <th>3</th>\n",
       "      <th>4</th>\n",
       "      <th>5</th>\n",
       "      <th>6</th>\n",
       "      <th>7</th>\n",
       "      <th>8</th>\n",
       "      <th>9</th>\n",
       "      <th>10</th>\n",
       "      <th>11</th>\n",
       "      <th>12</th>\n",
       "    </tr>\n",
       "  </thead>\n",
       "  <tbody>\n",
       "    <tr>\n",
       "      <th>count</th>\n",
       "      <td>127.000000</td>\n",
       "      <td>127.000000</td>\n",
       "      <td>127.000000</td>\n",
       "      <td>127.000000</td>\n",
       "      <td>127.000000</td>\n",
       "      <td>127.000000</td>\n",
       "      <td>127.000000</td>\n",
       "      <td>127.000000</td>\n",
       "      <td>127.000000</td>\n",
       "      <td>127.000000</td>\n",
       "      <td>127.000000</td>\n",
       "      <td>127.000000</td>\n",
       "      <td>127.000000</td>\n",
       "    </tr>\n",
       "    <tr>\n",
       "      <th>mean</th>\n",
       "      <td>0.069516</td>\n",
       "      <td>-0.040195</td>\n",
       "      <td>0.009642</td>\n",
       "      <td>-0.110122</td>\n",
       "      <td>-0.121621</td>\n",
       "      <td>-0.215307</td>\n",
       "      <td>-0.082421</td>\n",
       "      <td>0.059679</td>\n",
       "      <td>0.087167</td>\n",
       "      <td>0.070291</td>\n",
       "      <td>0.337779</td>\n",
       "      <td>-0.095421</td>\n",
       "      <td>0.078011</td>\n",
       "    </tr>\n",
       "    <tr>\n",
       "      <th>std</th>\n",
       "      <td>1.135670</td>\n",
       "      <td>1.043790</td>\n",
       "      <td>0.950633</td>\n",
       "      <td>0.801286</td>\n",
       "      <td>0.885319</td>\n",
       "      <td>0.884870</td>\n",
       "      <td>1.065750</td>\n",
       "      <td>0.990768</td>\n",
       "      <td>1.050935</td>\n",
       "      <td>1.061901</td>\n",
       "      <td>0.762017</td>\n",
       "      <td>1.165619</td>\n",
       "      <td>0.999279</td>\n",
       "    </tr>\n",
       "    <tr>\n",
       "      <th>min</th>\n",
       "      <td>-0.416998</td>\n",
       "      <td>-0.502812</td>\n",
       "      <td>-1.535086</td>\n",
       "      <td>-0.287849</td>\n",
       "      <td>-1.398164</td>\n",
       "      <td>-3.841413</td>\n",
       "      <td>-2.275208</td>\n",
       "      <td>-1.229636</td>\n",
       "      <td>-0.973400</td>\n",
       "      <td>-1.310358</td>\n",
       "      <td>-2.328144</td>\n",
       "      <td>-4.076225</td>\n",
       "      <td>-1.349531</td>\n",
       "    </tr>\n",
       "    <tr>\n",
       "      <th>25%</th>\n",
       "      <td>-0.407744</td>\n",
       "      <td>-0.502812</td>\n",
       "      <td>-0.757461</td>\n",
       "      <td>-0.287849</td>\n",
       "      <td>-0.927420</td>\n",
       "      <td>-0.628527</td>\n",
       "      <td>-1.131229</td>\n",
       "      <td>-0.709597</td>\n",
       "      <td>-0.624156</td>\n",
       "      <td>-0.722446</td>\n",
       "      <td>-0.006127</td>\n",
       "      <td>0.154673</td>\n",
       "      <td>-0.697411</td>\n",
       "    </tr>\n",
       "    <tr>\n",
       "      <th>50%</th>\n",
       "      <td>-0.394226</td>\n",
       "      <td>-0.502812</td>\n",
       "      <td>-0.205923</td>\n",
       "      <td>-0.287849</td>\n",
       "      <td>-0.288553</td>\n",
       "      <td>-0.217617</td>\n",
       "      <td>0.186245</td>\n",
       "      <td>-0.098841</td>\n",
       "      <td>-0.507741</td>\n",
       "      <td>-0.454117</td>\n",
       "      <td>0.414048</td>\n",
       "      <td>0.380140</td>\n",
       "      <td>-0.108332</td>\n",
       "    </tr>\n",
       "    <tr>\n",
       "      <th>75%</th>\n",
       "      <td>0.122898</td>\n",
       "      <td>-0.502812</td>\n",
       "      <td>1.005156</td>\n",
       "      <td>-0.287849</td>\n",
       "      <td>0.446985</td>\n",
       "      <td>0.212066</td>\n",
       "      <td>0.925404</td>\n",
       "      <td>0.637540</td>\n",
       "      <td>1.704142</td>\n",
       "      <td>1.571917</td>\n",
       "      <td>0.856337</td>\n",
       "      <td>0.436321</td>\n",
       "      <td>0.733611</td>\n",
       "    </tr>\n",
       "    <tr>\n",
       "      <th>max</th>\n",
       "      <td>8.438563</td>\n",
       "      <td>3.616356</td>\n",
       "      <td>2.393361</td>\n",
       "      <td>3.474042</td>\n",
       "      <td>2.628380</td>\n",
       "      <td>2.378556</td>\n",
       "      <td>1.115164</td>\n",
       "      <td>3.292594</td>\n",
       "      <td>1.704142</td>\n",
       "      <td>1.843261</td>\n",
       "      <td>1.652457</td>\n",
       "      <td>0.436321</td>\n",
       "      <td>3.427547</td>\n",
       "    </tr>\n",
       "  </tbody>\n",
       "</table>\n",
       "</div>"
      ],
      "text/plain": [
       "               0           1           2           3           4           5   \\\n",
       "count  127.000000  127.000000  127.000000  127.000000  127.000000  127.000000   \n",
       "mean     0.069516   -0.040195    0.009642   -0.110122   -0.121621   -0.215307   \n",
       "std      1.135670    1.043790    0.950633    0.801286    0.885319    0.884870   \n",
       "min     -0.416998   -0.502812   -1.535086   -0.287849   -1.398164   -3.841413   \n",
       "25%     -0.407744   -0.502812   -0.757461   -0.287849   -0.927420   -0.628527   \n",
       "50%     -0.394226   -0.502812   -0.205923   -0.287849   -0.288553   -0.217617   \n",
       "75%      0.122898   -0.502812    1.005156   -0.287849    0.446985    0.212066   \n",
       "max      8.438563    3.616356    2.393361    3.474042    2.628380    2.378556   \n",
       "\n",
       "               6           7           8           9           10          11  \\\n",
       "count  127.000000  127.000000  127.000000  127.000000  127.000000  127.000000   \n",
       "mean    -0.082421    0.059679    0.087167    0.070291    0.337779   -0.095421   \n",
       "std      1.065750    0.990768    1.050935    1.061901    0.762017    1.165619   \n",
       "min     -2.275208   -1.229636   -0.973400   -1.310358   -2.328144   -4.076225   \n",
       "25%     -1.131229   -0.709597   -0.624156   -0.722446   -0.006127    0.154673   \n",
       "50%      0.186245   -0.098841   -0.507741   -0.454117    0.414048    0.380140   \n",
       "75%      0.925404    0.637540    1.704142    1.571917    0.856337    0.436321   \n",
       "max      1.115164    3.292594    1.704142    1.843261    1.652457    0.436321   \n",
       "\n",
       "               12  \n",
       "count  127.000000  \n",
       "mean     0.078011  \n",
       "std      0.999279  \n",
       "min     -1.349531  \n",
       "25%     -0.697411  \n",
       "50%     -0.108332  \n",
       "75%      0.733611  \n",
       "max      3.427547  "
      ]
     },
     "execution_count": 153,
     "metadata": {},
     "output_type": "execute_result"
    }
   ],
   "source": [
    "from sklearn.model_selection import train_test_split\n",
    "X_train, X_test, y_train, y_test = train_test_split(boston_df, y, test_size = 0.25, random_state=42)\n",
    "from sklearn.preprocessing import StandardScaler\n",
    "sc = StandardScaler()\n",
    "sc_fit = sc.fit(X_train)\n",
    "X_train = pd.DataFrame(sc_fit.transform(X_train))\n",
    "X_test = pd.DataFrame(sc_fit.transform(X_test))\n",
    "\n",
    "X_test.describe()"
   ]
  },
  {
   "cell_type": "markdown",
   "metadata": {},
   "source": [
    "**RIDGE**"
   ]
  },
  {
   "cell_type": "markdown",
   "metadata": {
    "colab_type": "text",
    "id": "vPGXur4x_qve"
   },
   "source": [
    "4. Générer un modèle de régression linéaire classique, un modèle ridge où alpha vaut 0.01 et un modèle ridge où alpha vaut 100."
   ]
  },
  {
   "cell_type": "code",
   "execution_count": 154,
   "metadata": {
    "colab": {},
    "colab_type": "code",
    "id": "CPCIHapL_mze"
   },
   "outputs": [],
   "source": [
    "from sklearn.linear_model import LinearRegression\n",
    "from sklearn.linear_model import Ridge\n",
    "\n",
    "linear_regressor = LinearRegression()\n",
    "ridge_small = Ridge(alpha = 0.01)\n",
    "ridge_medium = Ridge(alpha = 0.01)\n",
    "ridge_large = Ridge(alpha = 100)"
   ]
  },
  {
   "cell_type": "markdown",
   "metadata": {
    "colab_type": "text",
    "id": "AEYP5etM_05G"
   },
   "source": [
    "5. Entraînez ces modèles sur les données sur les données d’apprentissage"
   ]
  },
  {
   "cell_type": "code",
   "execution_count": 155,
   "metadata": {
    "colab": {
     "base_uri": "https://localhost:8080/",
     "height": 52
    },
    "colab_type": "code",
    "executionInfo": {
     "elapsed": 1807,
     "status": "ok",
     "timestamp": 1569445774102,
     "user": {
      "displayName": "Marc de Forsanz",
      "photoUrl": "",
      "userId": "12193141439046110193"
     },
     "user_tz": -120
    },
    "id": "0IQdvW5b_wUb",
    "outputId": "c2ccf49f-81d1-4ffb-fe9d-cd7755731129"
   },
   "outputs": [
    {
     "data": {
      "text/plain": [
       "Ridge(alpha=100)"
      ]
     },
     "execution_count": 155,
     "metadata": {},
     "output_type": "execute_result"
    }
   ],
   "source": [
    "linear_regressor.fit(X_train, y_train)\n",
    "ridge_small.fit(X_train, y_train)\n",
    "ridge_medium.fit(X_train, y_train)\n",
    "ridge_large.fit(X_train, y_train)"
   ]
  },
  {
   "cell_type": "markdown",
   "metadata": {
    "colab_type": "text",
    "id": "rxX35B6j_4iE"
   },
   "source": [
    "6. Produisez les scores de performance de c’est trois modèles sur l’échantillon d’apprentissage et de validation grâce à l’attribut .score"
   ]
  },
  {
   "cell_type": "code",
   "execution_count": 156,
   "metadata": {
    "colab": {
     "base_uri": "https://localhost:8080/",
     "height": 69
    },
    "colab_type": "code",
    "executionInfo": {
     "elapsed": 1805,
     "status": "ok",
     "timestamp": 1569445774106,
     "user": {
      "displayName": "Marc de Forsanz",
      "photoUrl": "",
      "userId": "12193141439046110193"
     },
     "user_tz": -120
    },
    "id": "SlbgdO2y_2LA",
    "outputId": "90feae1b-0dc2-4ea4-f199-cc55166263b9"
   },
   "outputs": [
    {
     "name": "stdout",
     "output_type": "stream",
     "text": [
      "Linear Regression score  : 0.6844267283527131\n",
      "Ridge with Alpha = 0.01  : 0.6844241403048285\n",
      "Ridge with Alpha = 1     : 0.6844241403048285\n",
      "Ridge with Alpha = 100   : 0.6688729681022239\n"
     ]
    }
   ],
   "source": [
    "print(f'Linear Regression score  : {linear_regressor.score(X_test, y_test)}')\n",
    "print(f'Ridge with Alpha = {0.01}  : {ridge_small.score(X_test, y_test)}')\n",
    "print(f'Ridge with Alpha = {1}     : {ridge_medium.score(X_test, y_test)}')\n",
    "print(f'Ridge with Alpha = {100}   : {ridge_large.score(X_test, y_test)}')"
   ]
  },
  {
   "cell_type": "markdown",
   "metadata": {
    "colab_type": "text",
    "id": "orQ4-NbwF4QW"
   },
   "source": [
    "8. Déterminez la valeur optimale de alpha (à 1 prêt) à l'aide de la fonction GridSearchCV"
   ]
  },
  {
   "cell_type": "code",
   "execution_count": 157,
   "metadata": {
    "colab": {
     "base_uri": "https://localhost:8080/",
     "height": 72
    },
    "colab_type": "code",
    "executionInfo": {
     "elapsed": 7639,
     "status": "ok",
     "timestamp": 1569445779963,
     "user": {
      "displayName": "Marc de Forsanz",
      "photoUrl": "",
      "userId": "12193141439046110193"
     },
     "user_tz": -120
    },
    "id": "5kjsUd-2AqMw",
    "outputId": "71bdc84d-56fc-4440-a0e5-185bf97da481"
   },
   "outputs": [],
   "source": [
    "from sklearn.model_selection import GridSearchCV\n",
    "\n",
    "params = {'alpha':np.arange(0,100,1)}\n",
    "ridge = Ridge()\n",
    "\n",
    "grid_ridge = GridSearchCV(ridge, param_grid=params, cv=10)\n",
    "grid_ridge_fit = grid_ridge.fit(X_train, y_train)"
   ]
  },
  {
   "cell_type": "code",
   "execution_count": 158,
   "metadata": {
    "colab": {
     "base_uri": "https://localhost:8080/",
     "height": 34
    },
    "colab_type": "code",
    "executionInfo": {
     "elapsed": 7636,
     "status": "ok",
     "timestamp": 1569445779966,
     "user": {
      "displayName": "Marc de Forsanz",
      "photoUrl": "",
      "userId": "12193141439046110193"
     },
     "user_tz": -120
    },
    "id": "-Nb5OEGeEy4Y",
    "outputId": "42e86a37-bd3d-4789-8887-449fa5a4a665"
   },
   "outputs": [
    {
     "name": "stdout",
     "output_type": "stream",
     "text": [
      "La valeur optimale de alpha est : {'alpha': 12}\n",
      "Le score sur le jeu de test avec {'alpha': 12} : 0.6815074750593488\n",
      "Le score avec le modèle linéaire (alpha=0)    : 0.6844267283527131\n"
     ]
    }
   ],
   "source": [
    "print(f'La valeur optimale de alpha est : {grid_ridge_fit.best_params_}')\n",
    "print(f'Le score sur le jeu de test avec {grid_ridge_fit.best_params_} : {grid_ridge_fit.best_estimator_.score(X_test,y_test)}')\n",
    "print(f'Le score avec le modèle linéaire (alpha=0)    : {linear_regressor.score(X_test, y_test)}')"
   ]
  },
  {
   "cell_type": "markdown",
   "metadata": {},
   "source": [
    "**LASSO**"
   ]
  },
  {
   "cell_type": "markdown",
   "metadata": {},
   "source": [
    "9. Répétez les étapes suivies avec le modèle de Ridge"
   ]
  },
  {
   "cell_type": "code",
   "execution_count": 159,
   "metadata": {
    "colab": {},
    "colab_type": "code",
    "id": "-yAiAhW2H3SU"
   },
   "outputs": [],
   "source": [
    "from sklearn.linear_model import Lasso\n",
    "lasso_large = Lasso(alpha = 1)\n",
    "lasso_medium = Lasso(alpha = 0.1)\n",
    "lasso_small = Lasso(alpha = 0.001)"
   ]
  },
  {
   "cell_type": "code",
   "execution_count": 160,
   "metadata": {
    "colab": {},
    "colab_type": "code",
    "id": "Qd7uy7xCVvBC"
   },
   "outputs": [
    {
     "data": {
      "text/plain": [
       "Lasso(alpha=1)"
      ]
     },
     "execution_count": 160,
     "metadata": {},
     "output_type": "execute_result"
    }
   ],
   "source": [
    "lasso_small.fit(X_train, y_train)\n",
    "lasso_medium.fit(X_train, y_train)\n",
    "lasso_large.fit(X_train, y_train)"
   ]
  },
  {
   "cell_type": "code",
   "execution_count": 161,
   "metadata": {},
   "outputs": [
    {
     "name": "stdout",
     "output_type": "stream",
     "text": [
      "Linear Regression score  : 0.6844267283527131\n",
      "lasso with Alpha = 0.001 : 0.6844100741218248\n",
      "lasso with Alpha = 0.1  : 0.6695512283159346\n",
      "lasso with Alpha = 1   : 0.6286163762112531\n"
     ]
    }
   ],
   "source": [
    "print(f'Linear Regression score  : {linear_regressor.score(X_test, y_test)}')\n",
    "print(f'lasso with Alpha = {0.001} : {lasso_small.score(X_test, y_test)}')\n",
    "print(f'lasso with Alpha = {0.1}  : {lasso_medium.score(X_test, y_test)}')\n",
    "print(f'lasso with Alpha = {1}   : {lasso_large.score(X_test, y_test)}')"
   ]
  },
  {
   "cell_type": "markdown",
   "metadata": {},
   "source": [
    "Déterminez la valeur optimale de alpha (à 1 prêt) à l'aide de la fonction GridSearchCV"
   ]
  },
  {
   "cell_type": "code",
   "execution_count": 163,
   "metadata": {},
   "outputs": [],
   "source": [
    "params = {'alpha' : [10**(-a) for a in range(10)]}\n",
    "lasso = Lasso()\n",
    "\n",
    "grid_lasso = GridSearchCV(lasso, param_grid=params, cv=10)\n",
    "grid_lasso_fit = grid_lasso.fit(X_train, y_train)"
   ]
  },
  {
   "cell_type": "code",
   "execution_count": 164,
   "metadata": {},
   "outputs": [
    {
     "name": "stdout",
     "output_type": "stream",
     "text": [
      "La valeur optimale de alpha est : {'alpha': 0.01}\n",
      "Le score sur le jeu de test avec {'alpha': 0.01} : 0.6841457146539833\n",
      "Le score avec le modèle linéaire (alpha=0)    : 0.6844267283527131\n"
     ]
    }
   ],
   "source": [
    "print(f'La valeur optimale de alpha est : {grid_lasso_fit.best_params_}')\n",
    "print(f'Le score sur le jeu de test avec {grid_lasso_fit.best_params_} : {grid_lasso_fit.best_estimator_.score(X_test,y_test)}')\n",
    "print(f'Le score avec le modèle linéaire (alpha=0)    : {linear_regressor.score(X_test, y_test)}')"
   ]
  },
  {
   "cell_type": "markdown",
   "metadata": {},
   "source": [
    "10. Dataframe avec les valeurs optimales de alpha pour Rigde et Lasso ainsi que les scores correspondant"
   ]
  },
  {
   "cell_type": "code",
   "execution_count": 174,
   "metadata": {},
   "outputs": [
    {
     "data": {
      "text/html": [
       "<div>\n",
       "<style scoped>\n",
       "    .dataframe tbody tr th:only-of-type {\n",
       "        vertical-align: middle;\n",
       "    }\n",
       "\n",
       "    .dataframe tbody tr th {\n",
       "        vertical-align: top;\n",
       "    }\n",
       "\n",
       "    .dataframe thead th {\n",
       "        text-align: right;\n",
       "    }\n",
       "</style>\n",
       "<table border=\"1\" class=\"dataframe\">\n",
       "  <thead>\n",
       "    <tr style=\"text-align: right;\">\n",
       "      <th></th>\n",
       "      <th>Model</th>\n",
       "      <th>Alpha</th>\n",
       "      <th>Scores</th>\n",
       "    </tr>\n",
       "  </thead>\n",
       "  <tbody>\n",
       "    <tr>\n",
       "      <th>0</th>\n",
       "      <td>LR</td>\n",
       "      <td>0.00</td>\n",
       "      <td>0.684427</td>\n",
       "    </tr>\n",
       "    <tr>\n",
       "      <th>1</th>\n",
       "      <td>RIDGE</td>\n",
       "      <td>12.00</td>\n",
       "      <td>0.681507</td>\n",
       "    </tr>\n",
       "    <tr>\n",
       "      <th>2</th>\n",
       "      <td>LASSO</td>\n",
       "      <td>0.01</td>\n",
       "      <td>0.684146</td>\n",
       "    </tr>\n",
       "  </tbody>\n",
       "</table>\n",
       "</div>"
      ],
      "text/plain": [
       "   Model  Alpha    Scores\n",
       "0     LR   0.00  0.684427\n",
       "1  RIDGE  12.00  0.681507\n",
       "2  LASSO   0.01  0.684146"
      ]
     },
     "execution_count": 174,
     "metadata": {},
     "output_type": "execute_result"
    }
   ],
   "source": [
    "score_lr = linear_regressor.score(X_test, y_test)\n",
    "score_ridge = grid_ridge_fit.best_estimator_.score(X_test,y_test)\n",
    "score_lasso = grid_lasso_fit.best_estimator_.score(X_test,y_test)\n",
    "\n",
    "alpha_ridge = grid_ridge_fit.best_params_.get('alpha')\n",
    "alpha_lasso = grid_lasso_fit.best_params_.get('alpha')\n",
    "\n",
    "test_scores = pd.DataFrame()\n",
    "test_scores['Model'] = ['LR', 'RIDGE', 'LASSO']\n",
    "test_scores['Alpha'] = [0, alpha_ridge, alpha_lasso]\n",
    "test_scores['Scores'] = [score_lr, score_ridge, score_lasso]\n",
    "test_scores"
   ]
  },
  {
   "cell_type": "markdown",
   "metadata": {},
   "source": [
    "11. Dataframe avec les coefficients de chaque variable obtenus avec les modèles entrainés"
   ]
  },
  {
   "cell_type": "code",
   "execution_count": 190,
   "metadata": {},
   "outputs": [
    {
     "data": {
      "text/html": [
       "<div>\n",
       "<style scoped>\n",
       "    .dataframe tbody tr th:only-of-type {\n",
       "        vertical-align: middle;\n",
       "    }\n",
       "\n",
       "    .dataframe tbody tr th {\n",
       "        vertical-align: top;\n",
       "    }\n",
       "\n",
       "    .dataframe thead th {\n",
       "        text-align: right;\n",
       "    }\n",
       "</style>\n",
       "<table border=\"1\" class=\"dataframe\">\n",
       "  <thead>\n",
       "    <tr style=\"text-align: right;\">\n",
       "      <th></th>\n",
       "      <th>0</th>\n",
       "      <th>1</th>\n",
       "      <th>2</th>\n",
       "      <th>3</th>\n",
       "      <th>4</th>\n",
       "      <th>5</th>\n",
       "      <th>6</th>\n",
       "      <th>7</th>\n",
       "      <th>8</th>\n",
       "      <th>9</th>\n",
       "      <th>10</th>\n",
       "      <th>11</th>\n",
       "      <th>12</th>\n",
       "    </tr>\n",
       "  </thead>\n",
       "  <tbody>\n",
       "    <tr>\n",
       "      <th>coef_linear_regressor</th>\n",
       "      <td>-1.06546</td>\n",
       "      <td>0.68155</td>\n",
       "      <td>0.339288</td>\n",
       "      <td>0.737263</td>\n",
       "      <td>-1.93178</td>\n",
       "      <td>3.14173</td>\n",
       "      <td>-0.255863</td>\n",
       "      <td>-2.95561</td>\n",
       "      <td>2.21416</td>\n",
       "      <td>-1.65127</td>\n",
       "      <td>-2.08715</td>\n",
       "      <td>1.15236</td>\n",
       "      <td>-3.69504</td>\n",
       "    </tr>\n",
       "    <tr>\n",
       "      <th>coef_ridge</th>\n",
       "      <td>-0.95937</td>\n",
       "      <td>0.528213</td>\n",
       "      <td>0.110282</td>\n",
       "      <td>0.770678</td>\n",
       "      <td>-1.60241</td>\n",
       "      <td>3.17761</td>\n",
       "      <td>-0.259378</td>\n",
       "      <td>-2.5733</td>\n",
       "      <td>1.53748</td>\n",
       "      <td>-1.08838</td>\n",
       "      <td>-1.96972</td>\n",
       "      <td>1.11768</td>\n",
       "      <td>-3.56276</td>\n",
       "    </tr>\n",
       "    <tr>\n",
       "      <th>coef_lasso</th>\n",
       "      <td>-1.0354</td>\n",
       "      <td>-1.0354</td>\n",
       "      <td>-1.0354</td>\n",
       "      <td>-1.0354</td>\n",
       "      <td>-1.0354</td>\n",
       "      <td>-1.0354</td>\n",
       "      <td>-1.0354</td>\n",
       "      <td>-1.0354</td>\n",
       "      <td>-1.0354</td>\n",
       "      <td>-1.0354</td>\n",
       "      <td>-1.0354</td>\n",
       "      <td>-1.0354</td>\n",
       "      <td>-1.0354</td>\n",
       "    </tr>\n",
       "  </tbody>\n",
       "</table>\n",
       "</div>"
      ],
      "text/plain": [
       "                             0         1         2         3        4  \\\n",
       "coef_linear_regressor -1.06546   0.68155  0.339288  0.737263 -1.93178   \n",
       "coef_ridge            -0.95937  0.528213  0.110282  0.770678 -1.60241   \n",
       "coef_lasso             -1.0354   -1.0354   -1.0354   -1.0354  -1.0354   \n",
       "\n",
       "                             5         6        7        8        9       10  \\\n",
       "coef_linear_regressor  3.14173 -0.255863 -2.95561  2.21416 -1.65127 -2.08715   \n",
       "coef_ridge             3.17761 -0.259378  -2.5733  1.53748 -1.08838 -1.96972   \n",
       "coef_lasso             -1.0354   -1.0354  -1.0354  -1.0354  -1.0354  -1.0354   \n",
       "\n",
       "                            11       12  \n",
       "coef_linear_regressor  1.15236 -3.69504  \n",
       "coef_ridge             1.11768 -3.56276  \n",
       "coef_lasso             -1.0354  -1.0354  "
      ]
     },
     "execution_count": 190,
     "metadata": {},
     "output_type": "execute_result"
    }
   ],
   "source": [
    "coefs[1:]"
   ]
  },
  {
   "cell_type": "code",
   "execution_count": 193,
   "metadata": {},
   "outputs": [
    {
     "data": {
      "text/html": [
       "<div>\n",
       "<style scoped>\n",
       "    .dataframe tbody tr th:only-of-type {\n",
       "        vertical-align: middle;\n",
       "    }\n",
       "\n",
       "    .dataframe tbody tr th {\n",
       "        vertical-align: top;\n",
       "    }\n",
       "\n",
       "    .dataframe thead th {\n",
       "        text-align: right;\n",
       "    }\n",
       "</style>\n",
       "<table border=\"1\" class=\"dataframe\">\n",
       "  <thead>\n",
       "    <tr style=\"text-align: right;\">\n",
       "      <th>features</th>\n",
       "      <th>CRIM</th>\n",
       "      <th>ZN</th>\n",
       "      <th>INDUS</th>\n",
       "      <th>CHAS</th>\n",
       "      <th>NOX</th>\n",
       "      <th>RM</th>\n",
       "      <th>AGE</th>\n",
       "      <th>DIS</th>\n",
       "      <th>RAD</th>\n",
       "      <th>TAX</th>\n",
       "      <th>PTRATIO</th>\n",
       "      <th>B</th>\n",
       "      <th>LSTAT</th>\n",
       "    </tr>\n",
       "  </thead>\n",
       "  <tbody>\n",
       "    <tr>\n",
       "      <th>coef_linear_regressor</th>\n",
       "      <td>-1.06546</td>\n",
       "      <td>0.68155</td>\n",
       "      <td>0.339288</td>\n",
       "      <td>0.737263</td>\n",
       "      <td>-1.93178</td>\n",
       "      <td>3.14173</td>\n",
       "      <td>-0.255863</td>\n",
       "      <td>-2.95561</td>\n",
       "      <td>2.21416</td>\n",
       "      <td>-1.65127</td>\n",
       "      <td>-2.08715</td>\n",
       "      <td>1.15236</td>\n",
       "      <td>-3.69504</td>\n",
       "    </tr>\n",
       "    <tr>\n",
       "      <th>coef_ridge</th>\n",
       "      <td>-0.95937</td>\n",
       "      <td>0.528213</td>\n",
       "      <td>0.110282</td>\n",
       "      <td>0.770678</td>\n",
       "      <td>-1.60241</td>\n",
       "      <td>3.17761</td>\n",
       "      <td>-0.259378</td>\n",
       "      <td>-2.5733</td>\n",
       "      <td>1.53748</td>\n",
       "      <td>-1.08838</td>\n",
       "      <td>-1.96972</td>\n",
       "      <td>1.11768</td>\n",
       "      <td>-3.56276</td>\n",
       "    </tr>\n",
       "    <tr>\n",
       "      <th>coef_lasso</th>\n",
       "      <td>-1.0354</td>\n",
       "      <td>-1.0354</td>\n",
       "      <td>-1.0354</td>\n",
       "      <td>-1.0354</td>\n",
       "      <td>-1.0354</td>\n",
       "      <td>-1.0354</td>\n",
       "      <td>-1.0354</td>\n",
       "      <td>-1.0354</td>\n",
       "      <td>-1.0354</td>\n",
       "      <td>-1.0354</td>\n",
       "      <td>-1.0354</td>\n",
       "      <td>-1.0354</td>\n",
       "      <td>-1.0354</td>\n",
       "    </tr>\n",
       "  </tbody>\n",
       "</table>\n",
       "</div>"
      ],
      "text/plain": [
       "features                  CRIM        ZN     INDUS      CHAS      NOX  \\\n",
       "coef_linear_regressor -1.06546   0.68155  0.339288  0.737263 -1.93178   \n",
       "coef_ridge            -0.95937  0.528213  0.110282  0.770678 -1.60241   \n",
       "coef_lasso             -1.0354   -1.0354   -1.0354   -1.0354  -1.0354   \n",
       "\n",
       "features                    RM       AGE      DIS      RAD      TAX  PTRATIO  \\\n",
       "coef_linear_regressor  3.14173 -0.255863 -2.95561  2.21416 -1.65127 -2.08715   \n",
       "coef_ridge             3.17761 -0.259378  -2.5733  1.53748 -1.08838 -1.96972   \n",
       "coef_lasso             -1.0354   -1.0354  -1.0354  -1.0354  -1.0354  -1.0354   \n",
       "\n",
       "features                     B    LSTAT  \n",
       "coef_linear_regressor  1.15236 -3.69504  \n",
       "coef_ridge             1.11768 -3.56276  \n",
       "coef_lasso             -1.0354  -1.0354  "
      ]
     },
     "execution_count": 193,
     "metadata": {},
     "output_type": "execute_result"
    }
   ],
   "source": [
    "coefs = pd.DataFrame()\n",
    "coefs['features'] = boston_df.columns\n",
    "coefs['coef_linear_regressor'] = linear_regressor.coef_[0]\n",
    "coefs['coef_ridge'] = grid_ridge_fit.best_estimator_.coef_[0]\n",
    "coefs['coef_lasso'] = grid_lasso_fit.best_estimator_.coef_[0]\n",
    "coefs = coefs.T\n",
    "coefs.columns = coefs.iloc[0]\n",
    "coefs = coefs.iloc[1:]\n",
    "coefs"
   ]
  },
  {
   "cell_type": "markdown",
   "metadata": {
    "colab_type": "text",
    "id": "y-FCEvIUASw9"
   },
   "source": [
    "9. Comparez les coefficients des trois modèle à l’aide d’un graphique, que remarquez vous ?"
   ]
  },
  {
   "cell_type": "code",
   "execution_count": 212,
   "metadata": {
    "colab": {
     "base_uri": "https://localhost:8080/",
     "height": 300
    },
    "colab_type": "code",
    "executionInfo": {
     "elapsed": 2770,
     "status": "ok",
     "timestamp": 1569445775088,
     "user": {
      "displayName": "Marc de Forsanz",
      "photoUrl": "",
      "userId": "12193141439046110193"
     },
     "user_tz": -120
    },
    "id": "cJvQCAnfAWdm",
    "outputId": "a1fc0f21-8412-458a-e00b-bd8267ca11dd"
   },
   "outputs": [
    {
     "data": {
      "text/plain": [
       "<matplotlib.axes._subplots.AxesSubplot at 0x1d6456565b0>"
      ]
     },
     "execution_count": 212,
     "metadata": {},
     "output_type": "execute_result"
    },
    {
     "data": {
      "image/png": "[encoded data removed]",
      "text/plain": [
       "<Figure size 432x288 with 1 Axes>"
      ]
     },
     "metadata": {
      "needs_background": "light"
     },
     "output_type": "display_data"
    }
   ],
   "source": [
    "lr = pd.DataFrame({\"coefs\": linear_regressor.coef_[0], \n",
    "                      \"model\": \"lr\", \n",
    "                      \"index\": range(0, len(boston_df.columns))})\n",
    "\n",
    "ridge = pd.DataFrame({\"coefs\": ridge_large.coef_[0], \n",
    "                      \"model\": \"ridge\", \n",
    "                      \"index\": range(0, len(boston_df.columns))})\n",
    "\n",
    "lasso = pd.DataFrame({\"coefs\": lasso_large.coef_[0], \n",
    "                      \"model\": \"lasso\", \n",
    "                      \"index\": range(0, len(boston_df.columns))})\n",
    "\n",
    "perf_compar = pd.concat([lr, ridge, lasso])\n",
    "\n",
    "import seaborn as sns\n",
    "s.pointplot(x = 'index',y = 'coefs',hue = 'model', data = perf_compar)"
   ]
  },
  {
   "cell_type": "code",
   "execution_count": null,
   "metadata": {},
   "outputs": [],
   "source": []
  }
 ],
 "metadata": {
  "colab": {
   "collapsed_sections": [],
   "name": "Copy of Régressions Régularisées - Ridge Exercice SOLUTION.ipynb",
   "provenance": []
  },
  "kernelspec": {
   "display_name": "Python 3",
   "language": "python",
   "name": "python3"
  },
  "language_info": {
   "codemirror_mode": {
    "name": "ipython",
    "version": 3
   },
   "file_extension": ".py",
   "mimetype": "text/x-python",
   "name": "python",
   "nbconvert_exporter": "python",
   "pygments_lexer": "ipython3",
   "version": "3.8.3"
  }
 },
 "nbformat": 4,
 "nbformat_minor": 1
}
