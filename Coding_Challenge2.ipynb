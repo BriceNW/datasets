{
 "cells": [
  {
   "cell_type": "markdown",
   "metadata": {
    "colab_type": "text",
    "id": "28RDM2mBNYqU"
   },
   "source": [
    "## Programme de parrainage"
   ]
  },
  {
   "cell_type": "markdown",
   "metadata": {
    "colab_type": "text",
    "id": "fHLGQkt1DP_D"
   },
   "source": [
    "#### On regarde le contenu du jeu de données"
   ]
  },
  {
   "cell_type": "code",
   "execution_count": 0,
   "metadata": {
    "colab": {},
    "colab_type": "code",
    "id": "EMXQLzuubOeZ"
   },
   "outputs": [],
   "source": [
    "import pandas as pd\n",
    "import numpy as np\n",
    "import seaborn as sns\n",
    "import matplotlib.pyplot as plt\n",
    "from dateutil import parser\n",
    "import datetime as dt"
   ]
  },
  {
   "cell_type": "markdown",
   "metadata": {
    "colab_type": "text",
    "id": "0IyNN2dhlhSj"
   },
   "source": [
    "#### 1. Estimer l'impact du programme"
   ]
  },
  {
   "cell_type": "code",
   "execution_count": 0,
   "metadata": {
    "colab": {
     "base_uri": "https://localhost:8080/",
     "height": 204
    },
    "colab_type": "code",
    "id": "EXfuEcrNDe5N",
    "outputId": "225e81c4-8f9e-497a-b383-5a5c7b552c20"
   },
   "outputs": [
    {
     "data": {
      "text/html": [
       "<div>\n",
       "<style scoped>\n",
       "    .dataframe tbody tr th:only-of-type {\n",
       "        vertical-align: middle;\n",
       "    }\n",
       "\n",
       "    .dataframe tbody tr th {\n",
       "        vertical-align: top;\n",
       "    }\n",
       "\n",
       "    .dataframe thead th {\n",
       "        text-align: right;\n",
       "    }\n",
       "</style>\n",
       "<table border=\"1\" class=\"dataframe\">\n",
       "  <thead>\n",
       "    <tr style=\"text-align: right;\">\n",
       "      <th></th>\n",
       "      <th>user_id</th>\n",
       "      <th>date</th>\n",
       "      <th>country</th>\n",
       "      <th>money_spent</th>\n",
       "      <th>is_referral</th>\n",
       "      <th>device_id</th>\n",
       "    </tr>\n",
       "  </thead>\n",
       "  <tbody>\n",
       "    <tr>\n",
       "      <th>0</th>\n",
       "      <td>2</td>\n",
       "      <td>2015-10-03</td>\n",
       "      <td>FR</td>\n",
       "      <td>65</td>\n",
       "      <td>0</td>\n",
       "      <td>EVDCJTZMVMJDG</td>\n",
       "    </tr>\n",
       "    <tr>\n",
       "      <th>1</th>\n",
       "      <td>3</td>\n",
       "      <td>2015-10-03</td>\n",
       "      <td>CA</td>\n",
       "      <td>54</td>\n",
       "      <td>0</td>\n",
       "      <td>WUBZFTVKXGQQX</td>\n",
       "    </tr>\n",
       "    <tr>\n",
       "      <th>2</th>\n",
       "      <td>6</td>\n",
       "      <td>2015-10-03</td>\n",
       "      <td>FR</td>\n",
       "      <td>35</td>\n",
       "      <td>0</td>\n",
       "      <td>CBAPCJRTFNUJG</td>\n",
       "    </tr>\n",
       "    <tr>\n",
       "      <th>3</th>\n",
       "      <td>7</td>\n",
       "      <td>2015-10-03</td>\n",
       "      <td>UK</td>\n",
       "      <td>73</td>\n",
       "      <td>0</td>\n",
       "      <td>PRGXJZAJKMXRH</td>\n",
       "    </tr>\n",
       "    <tr>\n",
       "      <th>4</th>\n",
       "      <td>7</td>\n",
       "      <td>2015-10-03</td>\n",
       "      <td>MX</td>\n",
       "      <td>35</td>\n",
       "      <td>0</td>\n",
       "      <td>PRGXJZAJKMXRH</td>\n",
       "    </tr>\n",
       "  </tbody>\n",
       "</table>\n",
       "</div>"
      ],
      "text/plain": [
       "   user_id        date country  money_spent  is_referral      device_id\n",
       "0        2  2015-10-03      FR           65            0  EVDCJTZMVMJDG\n",
       "1        3  2015-10-03      CA           54            0  WUBZFTVKXGQQX\n",
       "2        6  2015-10-03      FR           35            0  CBAPCJRTFNUJG\n",
       "3        7  2015-10-03      UK           73            0  PRGXJZAJKMXRH\n",
       "4        7  2015-10-03      MX           35            0  PRGXJZAJKMXRH"
      ]
     },
     "execution_count": 2,
     "metadata": {
      "tags": []
     },
     "output_type": "execute_result"
    }
   ],
   "source": [
    "df = pd.read_csv('referral.csv')\n",
    "df.head()"
   ]
  },
  {
   "cell_type": "markdown",
   "metadata": {
    "colab_type": "text",
    "id": "zO6QnEamMiWo"
   },
   "source": [
    "#### On décompose la colonne date pour avoir les mois et les jours (du mois et de la semaine)"
   ]
  },
  {
   "cell_type": "code",
   "execution_count": 0,
   "metadata": {
    "colab": {},
    "colab_type": "code",
    "id": "F0uLfNRjFcAV"
   },
   "outputs": [],
   "source": [
    "df.date = pd.to_datetime(df.date)\n",
    "\n",
    "df['Year'] = df['date'].dt.year\n",
    "df['Month'] = df['date'].dt.month\n",
    "df['Month_day'] = df['date'].dt.day\n",
    "df['Week_day'] = df['date'].dt.day_name()"
   ]
  },
  {
   "cell_type": "code",
   "execution_count": 0,
   "metadata": {
    "colab": {
     "base_uri": "https://localhost:8080/",
     "height": 204
    },
    "colab_type": "code",
    "id": "tVL8m3boFu2L",
    "outputId": "11be758a-cc6a-4f23-908a-026a5b086670"
   },
   "outputs": [
    {
     "data": {
      "text/html": [
       "<div>\n",
       "<style scoped>\n",
       "    .dataframe tbody tr th:only-of-type {\n",
       "        vertical-align: middle;\n",
       "    }\n",
       "\n",
       "    .dataframe tbody tr th {\n",
       "        vertical-align: top;\n",
       "    }\n",
       "\n",
       "    .dataframe thead th {\n",
       "        text-align: right;\n",
       "    }\n",
       "</style>\n",
       "<table border=\"1\" class=\"dataframe\">\n",
       "  <thead>\n",
       "    <tr style=\"text-align: right;\">\n",
       "      <th></th>\n",
       "      <th>user_id</th>\n",
       "      <th>date</th>\n",
       "      <th>country</th>\n",
       "      <th>money_spent</th>\n",
       "      <th>is_referral</th>\n",
       "      <th>device_id</th>\n",
       "      <th>Year</th>\n",
       "      <th>Month</th>\n",
       "      <th>Month_day</th>\n",
       "      <th>Week_day</th>\n",
       "    </tr>\n",
       "  </thead>\n",
       "  <tbody>\n",
       "    <tr>\n",
       "      <th>0</th>\n",
       "      <td>2</td>\n",
       "      <td>2015-10-03</td>\n",
       "      <td>FR</td>\n",
       "      <td>65</td>\n",
       "      <td>0</td>\n",
       "      <td>EVDCJTZMVMJDG</td>\n",
       "      <td>2015</td>\n",
       "      <td>10</td>\n",
       "      <td>3</td>\n",
       "      <td>Saturday</td>\n",
       "    </tr>\n",
       "    <tr>\n",
       "      <th>1</th>\n",
       "      <td>3</td>\n",
       "      <td>2015-10-03</td>\n",
       "      <td>CA</td>\n",
       "      <td>54</td>\n",
       "      <td>0</td>\n",
       "      <td>WUBZFTVKXGQQX</td>\n",
       "      <td>2015</td>\n",
       "      <td>10</td>\n",
       "      <td>3</td>\n",
       "      <td>Saturday</td>\n",
       "    </tr>\n",
       "    <tr>\n",
       "      <th>2</th>\n",
       "      <td>6</td>\n",
       "      <td>2015-10-03</td>\n",
       "      <td>FR</td>\n",
       "      <td>35</td>\n",
       "      <td>0</td>\n",
       "      <td>CBAPCJRTFNUJG</td>\n",
       "      <td>2015</td>\n",
       "      <td>10</td>\n",
       "      <td>3</td>\n",
       "      <td>Saturday</td>\n",
       "    </tr>\n",
       "    <tr>\n",
       "      <th>3</th>\n",
       "      <td>7</td>\n",
       "      <td>2015-10-03</td>\n",
       "      <td>UK</td>\n",
       "      <td>73</td>\n",
       "      <td>0</td>\n",
       "      <td>PRGXJZAJKMXRH</td>\n",
       "      <td>2015</td>\n",
       "      <td>10</td>\n",
       "      <td>3</td>\n",
       "      <td>Saturday</td>\n",
       "    </tr>\n",
       "    <tr>\n",
       "      <th>4</th>\n",
       "      <td>7</td>\n",
       "      <td>2015-10-03</td>\n",
       "      <td>MX</td>\n",
       "      <td>35</td>\n",
       "      <td>0</td>\n",
       "      <td>PRGXJZAJKMXRH</td>\n",
       "      <td>2015</td>\n",
       "      <td>10</td>\n",
       "      <td>3</td>\n",
       "      <td>Saturday</td>\n",
       "    </tr>\n",
       "  </tbody>\n",
       "</table>\n",
       "</div>"
      ],
      "text/plain": [
       "   user_id       date country  money_spent  ...  Year Month  Month_day  Week_day\n",
       "0        2 2015-10-03      FR           65  ...  2015    10          3  Saturday\n",
       "1        3 2015-10-03      CA           54  ...  2015    10          3  Saturday\n",
       "2        6 2015-10-03      FR           35  ...  2015    10          3  Saturday\n",
       "3        7 2015-10-03      UK           73  ...  2015    10          3  Saturday\n",
       "4        7 2015-10-03      MX           35  ...  2015    10          3  Saturday\n",
       "\n",
       "[5 rows x 10 columns]"
      ]
     },
     "execution_count": 4,
     "metadata": {
      "tags": []
     },
     "output_type": "execute_result"
    }
   ],
   "source": [
    "df.head()"
   ]
  },
  {
   "cell_type": "code",
   "execution_count": 0,
   "metadata": {
    "colab": {
     "base_uri": "https://localhost:8080/",
     "height": 68
    },
    "colab_type": "code",
    "id": "d0P5qN1_J34s",
    "outputId": "456c78c7-34cd-4d42-87cf-572c902a6535"
   },
   "outputs": [
    {
     "data": {
      "text/plain": [
       "(10    50574\n",
       " 11    46767\n",
       " Name: Month, dtype: int64, 97341)"
      ]
     },
     "execution_count": 5,
     "metadata": {
      "tags": []
     },
     "output_type": "execute_result"
    }
   ],
   "source": [
    "df.Month.value_counts(), df.Month.value_counts().sum()"
   ]
  },
  {
   "cell_type": "markdown",
   "metadata": {
    "colab_type": "text",
    "id": "Jw9hRkkuMv8A"
   },
   "source": [
    "On distingue mois (Octobre avant le programme et Novembre pendant la durée du programme). On crée deux datasets pour analyser l'impact du programme de parrainage sur la performance de l'entreprise\n",
    "\n",
    "- Avant le 31 Octobre (df_Oct)\n",
    "- Après le 31 Octobre inclus (df_Nov)"
   ]
  },
  {
   "cell_type": "code",
   "execution_count": 0,
   "metadata": {
    "colab": {
     "base_uri": "https://localhost:8080/",
     "height": 34
    },
    "colab_type": "code",
    "id": "AT2_8QQ4Iz4Z",
    "outputId": "b9890945-fef8-4aba-9c59-d4bc6c5d4acd"
   },
   "outputs": [
    {
     "data": {
      "text/plain": [
       "47341"
      ]
     },
     "execution_count": 6,
     "metadata": {
      "tags": []
     },
     "output_type": "execute_result"
    }
   ],
   "source": [
    "df_Oct = df[(df.Month == 10) & (df.Month_day < 31)]\n",
    "len(df_Oct)"
   ]
  },
  {
   "cell_type": "code",
   "execution_count": 0,
   "metadata": {
    "colab": {
     "base_uri": "https://localhost:8080/",
     "height": 34
    },
    "colab_type": "code",
    "id": "Iu3sV_L1JPoF",
    "outputId": "bab163c4-95e1-4810-b025-fba10b7a438f"
   },
   "outputs": [
    {
     "data": {
      "text/plain": [
       "50000"
      ]
     },
     "execution_count": 7,
     "metadata": {
      "tags": []
     },
     "output_type": "execute_result"
    }
   ],
   "source": [
    "df_Nov = df[~((df.Month == 10) & (df.Month_day < 31))]\n",
    "len(df_Nov)"
   ]
  },
  {
   "cell_type": "code",
   "execution_count": 0,
   "metadata": {
    "colab": {
     "base_uri": "https://localhost:8080/",
     "height": 51
    },
    "colab_type": "code",
    "id": "YtduJE3iMFf9",
    "outputId": "549da475-7bbe-4678-c75a-ada75d703216"
   },
   "outputs": [
    {
     "name": "stdout",
     "output_type": "stream",
     "text": [
      "97341\n",
      "97341\n"
     ]
    }
   ],
   "source": [
    "print(df.Month.value_counts().sum())\n",
    "print(len(df_Nov) + len(df_Oct))"
   ]
  },
  {
   "cell_type": "markdown",
   "metadata": {
    "colab_type": "text",
    "id": "PzdE1KLoNCX1"
   },
   "source": [
    "#### On analyse les performances de l'entreprise avant le programme de parrainage\n",
    "\n",
    "\n"
   ]
  },
  {
   "cell_type": "code",
   "execution_count": 0,
   "metadata": {
    "colab": {
     "base_uri": "https://localhost:8080/",
     "height": 204
    },
    "colab_type": "code",
    "id": "V2LSRAdBKIWi",
    "outputId": "67e1b5ac-3ed9-404c-c059-e9a3a435d9ad"
   },
   "outputs": [
    {
     "data": {
      "text/html": [
       "<div>\n",
       "<style scoped>\n",
       "    .dataframe tbody tr th:only-of-type {\n",
       "        vertical-align: middle;\n",
       "    }\n",
       "\n",
       "    .dataframe tbody tr th {\n",
       "        vertical-align: top;\n",
       "    }\n",
       "\n",
       "    .dataframe thead th {\n",
       "        text-align: right;\n",
       "    }\n",
       "</style>\n",
       "<table border=\"1\" class=\"dataframe\">\n",
       "  <thead>\n",
       "    <tr style=\"text-align: right;\">\n",
       "      <th></th>\n",
       "      <th>user_id</th>\n",
       "      <th>date</th>\n",
       "      <th>country</th>\n",
       "      <th>money_spent</th>\n",
       "      <th>is_referral</th>\n",
       "      <th>device_id</th>\n",
       "      <th>Year</th>\n",
       "      <th>Month</th>\n",
       "      <th>Month_day</th>\n",
       "      <th>Week_day</th>\n",
       "    </tr>\n",
       "  </thead>\n",
       "  <tbody>\n",
       "    <tr>\n",
       "      <th>0</th>\n",
       "      <td>2</td>\n",
       "      <td>2015-10-03</td>\n",
       "      <td>FR</td>\n",
       "      <td>65</td>\n",
       "      <td>0</td>\n",
       "      <td>EVDCJTZMVMJDG</td>\n",
       "      <td>2015</td>\n",
       "      <td>10</td>\n",
       "      <td>3</td>\n",
       "      <td>Saturday</td>\n",
       "    </tr>\n",
       "    <tr>\n",
       "      <th>1</th>\n",
       "      <td>3</td>\n",
       "      <td>2015-10-03</td>\n",
       "      <td>CA</td>\n",
       "      <td>54</td>\n",
       "      <td>0</td>\n",
       "      <td>WUBZFTVKXGQQX</td>\n",
       "      <td>2015</td>\n",
       "      <td>10</td>\n",
       "      <td>3</td>\n",
       "      <td>Saturday</td>\n",
       "    </tr>\n",
       "    <tr>\n",
       "      <th>2</th>\n",
       "      <td>6</td>\n",
       "      <td>2015-10-03</td>\n",
       "      <td>FR</td>\n",
       "      <td>35</td>\n",
       "      <td>0</td>\n",
       "      <td>CBAPCJRTFNUJG</td>\n",
       "      <td>2015</td>\n",
       "      <td>10</td>\n",
       "      <td>3</td>\n",
       "      <td>Saturday</td>\n",
       "    </tr>\n",
       "    <tr>\n",
       "      <th>3</th>\n",
       "      <td>7</td>\n",
       "      <td>2015-10-03</td>\n",
       "      <td>UK</td>\n",
       "      <td>73</td>\n",
       "      <td>0</td>\n",
       "      <td>PRGXJZAJKMXRH</td>\n",
       "      <td>2015</td>\n",
       "      <td>10</td>\n",
       "      <td>3</td>\n",
       "      <td>Saturday</td>\n",
       "    </tr>\n",
       "    <tr>\n",
       "      <th>4</th>\n",
       "      <td>7</td>\n",
       "      <td>2015-10-03</td>\n",
       "      <td>MX</td>\n",
       "      <td>35</td>\n",
       "      <td>0</td>\n",
       "      <td>PRGXJZAJKMXRH</td>\n",
       "      <td>2015</td>\n",
       "      <td>10</td>\n",
       "      <td>3</td>\n",
       "      <td>Saturday</td>\n",
       "    </tr>\n",
       "  </tbody>\n",
       "</table>\n",
       "</div>"
      ],
      "text/plain": [
       "   user_id       date country  money_spent  ...  Year Month  Month_day  Week_day\n",
       "0        2 2015-10-03      FR           65  ...  2015    10          3  Saturday\n",
       "1        3 2015-10-03      CA           54  ...  2015    10          3  Saturday\n",
       "2        6 2015-10-03      FR           35  ...  2015    10          3  Saturday\n",
       "3        7 2015-10-03      UK           73  ...  2015    10          3  Saturday\n",
       "4        7 2015-10-03      MX           35  ...  2015    10          3  Saturday\n",
       "\n",
       "[5 rows x 10 columns]"
      ]
     },
     "execution_count": 9,
     "metadata": {
      "tags": []
     },
     "output_type": "execute_result"
    }
   ],
   "source": [
    "df_Oct.head()"
   ]
  },
  {
   "cell_type": "code",
   "execution_count": 0,
   "metadata": {
    "colab": {
     "base_uri": "https://localhost:8080/",
     "height": 51
    },
    "colab_type": "code",
    "id": "EQWCw-GfNjS_",
    "outputId": "421b0d2b-3fa9-4f1b-d642-31108fb2d9ff"
   },
   "outputs": [
    {
     "data": {
      "text/plain": [
       "0    47341\n",
       "Name: is_referral, dtype: int64"
      ]
     },
     "execution_count": 10,
     "metadata": {
      "tags": []
     },
     "output_type": "execute_result"
    }
   ],
   "source": [
    "df_Oct.is_referral.value_counts()"
   ]
  },
  {
   "cell_type": "code",
   "execution_count": 0,
   "metadata": {
    "colab": {
     "base_uri": "https://localhost:8080/",
     "height": 34
    },
    "colab_type": "code",
    "id": "I799P9IqtW1I",
    "outputId": "84072aff-acbd-4580-9021-ee774980717f"
   },
   "outputs": [
    {
     "data": {
      "text/plain": [
       "5000"
      ]
     },
     "execution_count": 18,
     "metadata": {
      "tags": []
     },
     "output_type": "execute_result"
    }
   ],
   "source": [
    "df_Oct.user_id.nunique()"
   ]
  },
  {
   "cell_type": "code",
   "execution_count": 0,
   "metadata": {
    "colab": {
     "base_uri": "https://localhost:8080/",
     "height": 221
    },
    "colab_type": "code",
    "id": "LbpJ136wuS3i",
    "outputId": "b0ab68ca-b038-48c8-bfca-1c46a4510498"
   },
   "outputs": [
    {
     "data": {
      "text/plain": [
       "1107    22\n",
       "3670    21\n",
       "3964    21\n",
       "2236    21\n",
       "4161    20\n",
       "        ..\n",
       "4400     1\n",
       "1995     1\n",
       "4592     1\n",
       "4176     1\n",
       "4381     1\n",
       "Name: user_id, Length: 5000, dtype: int64"
      ]
     },
     "execution_count": 11,
     "metadata": {
      "tags": []
     },
     "output_type": "execute_result"
    }
   ],
   "source": [
    "df_Oct.user_id.value_counts()"
   ]
  },
  {
   "cell_type": "code",
   "execution_count": 0,
   "metadata": {
    "colab": {
     "base_uri": "https://localhost:8080/",
     "height": 68
    },
    "colab_type": "code",
    "id": "uOHZTF1rN121",
    "outputId": "3742c606-48ca-4023-980a-9732952a5c82"
   },
   "outputs": [
    {
     "name": "stdout",
     "output_type": "stream",
     "text": [
      "Coût du programme de parrainage: 0 $\n",
      "Chiffre d'Affaires: 2006396 $\n",
      "Différence: 2006396 $\n"
     ]
    }
   ],
   "source": [
    "Mark_spent_Oct = 0\n",
    "Perf_Oct = df_Oct.money_spent.sum() - Mark_spent_Oct\n",
    "print(\"Coût du programme de parrainage: {} $\".format(Mark_spent_Oct))\n",
    "print(\"Chiffre d'Affaires: {} $\".format(df_Oct.money_spent.sum()))\n",
    "print(\"Différence: {} $\".format(Perf_Oct))"
   ]
  },
  {
   "cell_type": "markdown",
   "metadata": {
    "colab_type": "text",
    "id": "mzrbBF_8O-h_"
   },
   "source": [
    "#### Regardons un peu la répartition de ces ventes par pays, par jour du mois et par jour de la semaine"
   ]
  },
  {
   "cell_type": "code",
   "execution_count": 0,
   "metadata": {
    "colab": {
     "base_uri": "https://localhost:8080/",
     "height": 292
    },
    "colab_type": "code",
    "id": "n7ykGFQ2X7My",
    "outputId": "a0ddf79d-8ff9-45b5-b50d-e40926af36e5"
   },
   "outputs": [
    {
     "data": {
      "image/png": "[encoded data removed]",
      "text/plain": [
       "<Figure size 432x288 with 1 Axes>"
      ]
     },
     "metadata": {
      "tags": []
     },
     "output_type": "display_data"
    }
   ],
   "source": [
    "fig1 = df_Oct.groupby(df_Oct.country)['money_spent'].sum()\n",
    "\n",
    "explode = (0.0,0.0,0.0,0.0,0.1,0.0,0.0,0.1,0.1)\n",
    "fig, ax = plt.subplots()\n",
    "ax.pie(fig1, autopct='%1.1f%%', shadow=True, startangle=90, explode=explode, radius=1.2)\n",
    "fig.legend(fig1.index, loc=\"center right\")\n",
    "ax.set_title(\"Pourcentage du CA total par pays au mois d'Octobre\", y=1.1, fontsize = 14, color='w')\n",
    "plt.show()"
   ]
  },
  {
   "cell_type": "code",
   "execution_count": 0,
   "metadata": {
    "colab": {
     "base_uri": "https://localhost:8080/",
     "height": 288
    },
    "colab_type": "code",
    "id": "5_4HfYcwYz3c",
    "outputId": "6fe5a225-55f2-4327-becf-9cd07cded812"
   },
   "outputs": [
    {
     "data": {
      "image/png": "[encoded data removed]",
      "text/plain": [
       "<Figure size 432x288 with 1 Axes>"
      ]
     },
     "metadata": {
      "tags": []
     },
     "output_type": "display_data"
    }
   ],
   "source": [
    "fig2 = df_Oct.groupby(df_Oct.Week_day)['money_spent'].sum()\n",
    "\n",
    "explode = (0.0,0.0,0.0,0.0,0.0,0.0,0.0)\n",
    "fig, ax = plt.subplots()\n",
    "ax.pie(fig2, autopct='%1.1f%%', shadow=True, startangle=90, explode=explode, radius=1.2)\n",
    "fig.legend(fig2.index, loc=\"center right\")\n",
    "ax.set_title(\"Répartition du CA total par jour de la semaine au mois d'octobre\", y=1.1, fontsize = 14, color='w')\n",
    "plt.show()"
   ]
  },
  {
   "cell_type": "markdown",
   "metadata": {
    "colab_type": "text",
    "id": "QOZJgR5qPRjO"
   },
   "source": [
    "#### Regardons maintenant ce qu'il se pendant le programme de parrainage"
   ]
  },
  {
   "cell_type": "code",
   "execution_count": 0,
   "metadata": {
    "colab": {
     "base_uri": "https://localhost:8080/",
     "height": 204
    },
    "colab_type": "code",
    "id": "OBQWfwRUPO3s",
    "outputId": "3d824b44-502b-40bd-9376-aa3d3a670100"
   },
   "outputs": [
    {
     "data": {
      "text/html": [
       "<div>\n",
       "<style scoped>\n",
       "    .dataframe tbody tr th:only-of-type {\n",
       "        vertical-align: middle;\n",
       "    }\n",
       "\n",
       "    .dataframe tbody tr th {\n",
       "        vertical-align: top;\n",
       "    }\n",
       "\n",
       "    .dataframe thead th {\n",
       "        text-align: right;\n",
       "    }\n",
       "</style>\n",
       "<table border=\"1\" class=\"dataframe\">\n",
       "  <thead>\n",
       "    <tr style=\"text-align: right;\">\n",
       "      <th></th>\n",
       "      <th>user_id</th>\n",
       "      <th>date</th>\n",
       "      <th>country</th>\n",
       "      <th>money_spent</th>\n",
       "      <th>is_referral</th>\n",
       "      <th>device_id</th>\n",
       "      <th>Year</th>\n",
       "      <th>Month</th>\n",
       "      <th>Month_day</th>\n",
       "      <th>Week_day</th>\n",
       "    </tr>\n",
       "  </thead>\n",
       "  <tbody>\n",
       "    <tr>\n",
       "      <th>47341</th>\n",
       "      <td>21</td>\n",
       "      <td>2015-10-31</td>\n",
       "      <td>US</td>\n",
       "      <td>16</td>\n",
       "      <td>0</td>\n",
       "      <td>GHWEHPGTKPKZA</td>\n",
       "      <td>2015</td>\n",
       "      <td>10</td>\n",
       "      <td>31</td>\n",
       "      <td>Saturday</td>\n",
       "    </tr>\n",
       "    <tr>\n",
       "      <th>47342</th>\n",
       "      <td>22</td>\n",
       "      <td>2015-10-31</td>\n",
       "      <td>ES</td>\n",
       "      <td>14</td>\n",
       "      <td>0</td>\n",
       "      <td>YKGTJYXYDVYVR</td>\n",
       "      <td>2015</td>\n",
       "      <td>10</td>\n",
       "      <td>31</td>\n",
       "      <td>Saturday</td>\n",
       "    </tr>\n",
       "    <tr>\n",
       "      <th>47343</th>\n",
       "      <td>25</td>\n",
       "      <td>2015-10-31</td>\n",
       "      <td>IT</td>\n",
       "      <td>39</td>\n",
       "      <td>0</td>\n",
       "      <td>BCVEWGFBYJMMK</td>\n",
       "      <td>2015</td>\n",
       "      <td>10</td>\n",
       "      <td>31</td>\n",
       "      <td>Saturday</td>\n",
       "    </tr>\n",
       "    <tr>\n",
       "      <th>47344</th>\n",
       "      <td>26</td>\n",
       "      <td>2015-10-31</td>\n",
       "      <td>UK</td>\n",
       "      <td>84</td>\n",
       "      <td>0</td>\n",
       "      <td>PCXTGVBJDKPRE</td>\n",
       "      <td>2015</td>\n",
       "      <td>10</td>\n",
       "      <td>31</td>\n",
       "      <td>Saturday</td>\n",
       "    </tr>\n",
       "    <tr>\n",
       "      <th>47345</th>\n",
       "      <td>27</td>\n",
       "      <td>2015-10-31</td>\n",
       "      <td>IT</td>\n",
       "      <td>20</td>\n",
       "      <td>0</td>\n",
       "      <td>XSTMGVICVRWMH</td>\n",
       "      <td>2015</td>\n",
       "      <td>10</td>\n",
       "      <td>31</td>\n",
       "      <td>Saturday</td>\n",
       "    </tr>\n",
       "  </tbody>\n",
       "</table>\n",
       "</div>"
      ],
      "text/plain": [
       "       user_id       date country  ...  Month  Month_day  Week_day\n",
       "47341       21 2015-10-31      US  ...     10         31  Saturday\n",
       "47342       22 2015-10-31      ES  ...     10         31  Saturday\n",
       "47343       25 2015-10-31      IT  ...     10         31  Saturday\n",
       "47344       26 2015-10-31      UK  ...     10         31  Saturday\n",
       "47345       27 2015-10-31      IT  ...     10         31  Saturday\n",
       "\n",
       "[5 rows x 10 columns]"
      ]
     },
     "execution_count": 15,
     "metadata": {
      "tags": []
     },
     "output_type": "execute_result"
    }
   ],
   "source": [
    "df_Nov.head()"
   ]
  },
  {
   "cell_type": "code",
   "execution_count": 0,
   "metadata": {
    "colab": {
     "base_uri": "https://localhost:8080/",
     "height": 34
    },
    "colab_type": "code",
    "id": "Cyb_IMJqxfQ1",
    "outputId": "e9c16026-553f-4b6f-b8e1-7485187260b2"
   },
   "outputs": [
    {
     "data": {
      "text/plain": [
       "50000"
      ]
     },
     "execution_count": 16,
     "metadata": {
      "tags": []
     },
     "output_type": "execute_result"
    }
   ],
   "source": [
    "len(df_Nov)"
   ]
  },
  {
   "cell_type": "code",
   "execution_count": 0,
   "metadata": {
    "colab": {
     "base_uri": "https://localhost:8080/",
     "height": 68
    },
    "colab_type": "code",
    "id": "pnDFPCoxPiIh",
    "outputId": "daee8daa-fc9d-4035-fae5-1596e9740115"
   },
   "outputs": [
    {
     "data": {
      "text/plain": [
       "1    28017\n",
       "0    21983\n",
       "Name: is_referral, dtype: int64"
      ]
     },
     "execution_count": 17,
     "metadata": {
      "tags": []
     },
     "output_type": "execute_result"
    }
   ],
   "source": [
    "df_Nov.is_referral.value_counts()"
   ]
  },
  {
   "cell_type": "code",
   "execution_count": 0,
   "metadata": {
    "colab": {
     "base_uri": "https://localhost:8080/",
     "height": 450
    },
    "colab_type": "code",
    "id": "HfPhM-dWx78m",
    "outputId": "7ffb4c0b-9117-4c5a-c15b-e3c9320d36eb"
   },
   "outputs": [
    {
     "data": {
      "text/html": [
       "<div>\n",
       "<style scoped>\n",
       "    .dataframe tbody tr th:only-of-type {\n",
       "        vertical-align: middle;\n",
       "    }\n",
       "\n",
       "    .dataframe tbody tr th {\n",
       "        vertical-align: top;\n",
       "    }\n",
       "\n",
       "    .dataframe thead th {\n",
       "        text-align: right;\n",
       "    }\n",
       "</style>\n",
       "<table border=\"1\" class=\"dataframe\">\n",
       "  <thead>\n",
       "    <tr style=\"text-align: right;\">\n",
       "      <th></th>\n",
       "      <th>money_spent</th>\n",
       "      <th>is_referral</th>\n",
       "      <th>Year</th>\n",
       "      <th>Month</th>\n",
       "      <th>Month_day</th>\n",
       "    </tr>\n",
       "    <tr>\n",
       "      <th>user_id</th>\n",
       "      <th></th>\n",
       "      <th></th>\n",
       "      <th></th>\n",
       "      <th></th>\n",
       "      <th></th>\n",
       "    </tr>\n",
       "  </thead>\n",
       "  <tbody>\n",
       "    <tr>\n",
       "      <th>9803</th>\n",
       "      <td>653</td>\n",
       "      <td>10</td>\n",
       "      <td>20150</td>\n",
       "      <td>110</td>\n",
       "      <td>139</td>\n",
       "    </tr>\n",
       "    <tr>\n",
       "      <th>13785</th>\n",
       "      <td>428</td>\n",
       "      <td>9</td>\n",
       "      <td>18135</td>\n",
       "      <td>99</td>\n",
       "      <td>82</td>\n",
       "    </tr>\n",
       "    <tr>\n",
       "      <th>14761</th>\n",
       "      <td>390</td>\n",
       "      <td>9</td>\n",
       "      <td>18135</td>\n",
       "      <td>99</td>\n",
       "      <td>104</td>\n",
       "    </tr>\n",
       "    <tr>\n",
       "      <th>11451</th>\n",
       "      <td>355</td>\n",
       "      <td>9</td>\n",
       "      <td>18135</td>\n",
       "      <td>99</td>\n",
       "      <td>154</td>\n",
       "    </tr>\n",
       "    <tr>\n",
       "      <th>14237</th>\n",
       "      <td>474</td>\n",
       "      <td>8</td>\n",
       "      <td>16120</td>\n",
       "      <td>88</td>\n",
       "      <td>139</td>\n",
       "    </tr>\n",
       "    <tr>\n",
       "      <th>...</th>\n",
       "      <td>...</td>\n",
       "      <td>...</td>\n",
       "      <td>...</td>\n",
       "      <td>...</td>\n",
       "      <td>...</td>\n",
       "    </tr>\n",
       "    <tr>\n",
       "      <th>8676</th>\n",
       "      <td>61</td>\n",
       "      <td>1</td>\n",
       "      <td>2015</td>\n",
       "      <td>11</td>\n",
       "      <td>10</td>\n",
       "    </tr>\n",
       "    <tr>\n",
       "      <th>8677</th>\n",
       "      <td>55</td>\n",
       "      <td>1</td>\n",
       "      <td>2015</td>\n",
       "      <td>11</td>\n",
       "      <td>15</td>\n",
       "    </tr>\n",
       "    <tr>\n",
       "      <th>8678</th>\n",
       "      <td>69</td>\n",
       "      <td>1</td>\n",
       "      <td>2015</td>\n",
       "      <td>11</td>\n",
       "      <td>14</td>\n",
       "    </tr>\n",
       "    <tr>\n",
       "      <th>8682</th>\n",
       "      <td>51</td>\n",
       "      <td>1</td>\n",
       "      <td>2015</td>\n",
       "      <td>11</td>\n",
       "      <td>17</td>\n",
       "    </tr>\n",
       "    <tr>\n",
       "      <th>11617</th>\n",
       "      <td>46</td>\n",
       "      <td>1</td>\n",
       "      <td>2015</td>\n",
       "      <td>11</td>\n",
       "      <td>8</td>\n",
       "    </tr>\n",
       "  </tbody>\n",
       "</table>\n",
       "<p>12715 rows × 5 columns</p>\n",
       "</div>"
      ],
      "text/plain": [
       "         money_spent  is_referral   Year  Month  Month_day\n",
       "user_id                                                   \n",
       "9803             653           10  20150    110        139\n",
       "13785            428            9  18135     99         82\n",
       "14761            390            9  18135     99        104\n",
       "11451            355            9  18135     99        154\n",
       "14237            474            8  16120     88        139\n",
       "...              ...          ...    ...    ...        ...\n",
       "8676              61            1   2015     11         10\n",
       "8677              55            1   2015     11         15\n",
       "8678              69            1   2015     11         14\n",
       "8682              51            1   2015     11         17\n",
       "11617             46            1   2015     11          8\n",
       "\n",
       "[12715 rows x 5 columns]"
      ]
     },
     "execution_count": 18,
     "metadata": {
      "tags": []
     },
     "output_type": "execute_result"
    }
   ],
   "source": [
    "df_Nov.query('is_referral == 1').groupby('user_id').sum().sort_values('is_referral', ascending=False)"
   ]
  },
  {
   "cell_type": "code",
   "execution_count": 0,
   "metadata": {
    "colab": {
     "base_uri": "https://localhost:8080/",
     "height": 85
    },
    "colab_type": "code",
    "id": "nDRxtW0ejIuf",
    "outputId": "807517f3-bf7f-4377-f31c-16a2de122c7c"
   },
   "outputs": [
    {
     "data": {
      "text/plain": [
       "is_referral\n",
       "0    11539\n",
       "1    12715\n",
       "Name: user_id, dtype: int64"
      ]
     },
     "execution_count": 19,
     "metadata": {
      "tags": []
     },
     "output_type": "execute_result"
    }
   ],
   "source": [
    "df_Nov.groupby('is_referral')['user_id'].nunique()"
   ]
  },
  {
   "cell_type": "code",
   "execution_count": 0,
   "metadata": {
    "colab": {
     "base_uri": "https://localhost:8080/",
     "height": 85
    },
    "colab_type": "code",
    "id": "W3NXzGp9zu6X",
    "outputId": "44a534d5-27c3-4f1d-c846-faf912e3be04"
   },
   "outputs": [
    {
     "data": {
      "text/plain": [
       "is_referral\n",
       "0    0.475757\n",
       "1    0.524243\n",
       "Name: user_id, dtype: float64"
      ]
     },
     "execution_count": 20,
     "metadata": {
      "tags": []
     },
     "output_type": "execute_result"
    }
   ],
   "source": [
    "df_Nov.groupby('is_referral')['user_id'].nunique()/df_Nov.groupby('is_referral')['user_id'].nunique().sum()"
   ]
  },
  {
   "cell_type": "code",
   "execution_count": 0,
   "metadata": {
    "colab": {
     "base_uri": "https://localhost:8080/",
     "height": 297
    },
    "colab_type": "code",
    "id": "sorS5v5waU28",
    "outputId": "f134f98f-fdf0-42df-a0f4-c32c06e44ceb"
   },
   "outputs": [
    {
     "data": {
      "image/png": "[encoded data removed]",
      "text/plain": [
       "<Figure size 432x288 with 1 Axes>"
      ]
     },
     "metadata": {
      "tags": []
     },
     "output_type": "display_data"
    }
   ],
   "source": [
    "fig3 = df_Nov.groupby('is_referral')['user_id'].nunique()\n",
    "fig3 = fig3.rename(index={0: 'Pas de parrainage', 1: 'Parrainage'})\n",
    "\n",
    "explode = (0.0,0.0)\n",
    "fig, ax = plt.subplots()\n",
    "ax.pie(fig3, autopct='%1.1f%%', shadow=True, startangle=90, explode=explode, radius=1.2)\n",
    "fig.legend(fig3.index, loc=\"lower center\")\n",
    "ax.set_title(\"Pourcentage de clients parrainés/non parrainés\", y=1.0, fontsize = 14, color='w')\n",
    "plt.show()"
   ]
  },
  {
   "cell_type": "code",
   "execution_count": 0,
   "metadata": {
    "colab": {
     "base_uri": "https://localhost:8080/",
     "height": 85
    },
    "colab_type": "code",
    "id": "8yStqDfVz9n6",
    "outputId": "f7c2b298-77ff-4450-d08d-9ac1e880a546"
   },
   "outputs": [
    {
     "data": {
      "text/plain": [
       "is_referral\n",
       "0    1028216\n",
       "1    1315787\n",
       "Name: money_spent, dtype: int64"
      ]
     },
     "execution_count": 22,
     "metadata": {
      "tags": []
     },
     "output_type": "execute_result"
    }
   ],
   "source": [
    "df_Nov.groupby('is_referral')['money_spent'].sum()"
   ]
  },
  {
   "cell_type": "code",
   "execution_count": 0,
   "metadata": {
    "colab": {
     "base_uri": "https://localhost:8080/",
     "height": 296
    },
    "colab_type": "code",
    "id": "gOOadMaZ0NNo",
    "outputId": "96727239-1f0f-4b58-fbde-bff3a3bac540"
   },
   "outputs": [
    {
     "data": {
      "image/png": "[encoded data removed]",
      "text/plain": [
       "<Figure size 432x288 with 1 Axes>"
      ]
     },
     "metadata": {
      "tags": []
     },
     "output_type": "display_data"
    }
   ],
   "source": [
    "fig4 = df_Nov.groupby('is_referral')['money_spent'].sum()\n",
    "fig4 = fig4.rename(index={0: 'Pas de parrainage', 1: 'Parrainage'})\n",
    "\n",
    "explode = (0.0,0.0)\n",
    "fig, ax = plt.subplots()\n",
    "ax.pie(fig4, autopct='%1.1f%%', shadow=True, startangle=90, explode=explode, radius=1.2)\n",
    "fig.legend(fig4.index, loc=\"lower center\")\n",
    "ax.set_title(\"CA en fonction du parrainage\", y=1.0, fontsize = 14, color='w')\n",
    "plt.show()"
   ]
  },
  {
   "cell_type": "code",
   "execution_count": 0,
   "metadata": {
    "colab": {
     "base_uri": "https://localhost:8080/",
     "height": 68
    },
    "colab_type": "code",
    "id": "jKuk70prQAWY",
    "outputId": "6effb1eb-9468-42f5-a442-2d591c9805e1"
   },
   "outputs": [
    {
     "name": "stdout",
     "output_type": "stream",
     "text": [
      "Coût du programme de parrainage 127150 $\n",
      "Ventes enregistrées 2344003 $\n",
      "Différence 2216853 $\n"
     ]
    }
   ],
   "source": [
    "Mark_spent_Nov = df_Nov.query('is_referral == 1').user_id.nunique()*10\n",
    "Perf_Nov = df_Nov.money_spent.sum() - Mark_spent_Nov\n",
    "print(\"Coût du programme de parrainage {} $\".format(Mark_spent_Nov))\n",
    "print(\"Ventes enregistrées {} $\".format(df_Nov.money_spent.sum()))\n",
    "print(\"Différence {} $\".format(Perf_Nov))"
   ]
  },
  {
   "cell_type": "markdown",
   "metadata": {
    "colab_type": "text",
    "id": "SfuR6LfZRpY6"
   },
   "source": [
    "#### Impact du programme de parrainage"
   ]
  },
  {
   "cell_type": "code",
   "execution_count": 0,
   "metadata": {
    "colab": {
     "base_uri": "https://localhost:8080/",
     "height": 68
    },
    "colab_type": "code",
    "id": "d0QWuvK4Rm8s",
    "outputId": "c967832b-a65c-47e9-9122-d1f4176cc2b5"
   },
   "outputs": [
    {
     "name": "stdout",
     "output_type": "stream",
     "text": [
      "Le programme permet de faire environ 10.49 % de ventes en plus\n",
      "Le programme de parrainage a coûté  127150 $ pour 210457 $ de gains en plus par rapport au mois d'Octobre\n",
      "Le programme a donc rapporté 83307 $ \n"
     ]
    }
   ],
   "source": [
    "Diff_perf = round((Perf_Nov - Perf_Oct)/Perf_Oct*100, 2)\n",
    "print(\"Le programme permet de faire environ {} % de ventes en plus\".format(Diff_perf))\n",
    "print(\"Le programme de parrainage a coûté  {} $ pour {} $ de gains en plus par rapport au mois d'Octobre\".format(Mark_spent_Nov, Perf_Nov - Perf_Oct))\n",
    "print(\"Le programme a donc rapporté {} $ \".format(- Mark_spent_Nov + (Perf_Nov - Perf_Oct)))"
   ]
  },
  {
   "cell_type": "code",
   "execution_count": 0,
   "metadata": {
    "colab": {
     "base_uri": "https://localhost:8080/",
     "height": 289
    },
    "colab_type": "code",
    "id": "QV2c95hlamUl",
    "outputId": "9146e2e5-ad6d-4ac4-b5f7-3081dcae8c7b"
   },
   "outputs": [
    {
     "data": {
      "image/png": "[encoded data removed]",
      "text/plain": [
       "<Figure size 432x288 with 1 Axes>"
      ]
     },
     "metadata": {
      "tags": []
     },
     "output_type": "display_data"
    }
   ],
   "source": [
    "fig5 = df_Nov.groupby(df_Nov.country)['money_spent'].sum()\n",
    "\n",
    "explode = (0.0,0.0,0.0,0.0,0.1,0.0,0.0,0.1,0.1)\n",
    "fig, ax = plt.subplots()\n",
    "ax.pie(fig5, autopct='%1.1f%%', shadow=True, startangle=90, explode=explode, radius=1.2)\n",
    "fig.legend(fig5.index, loc=\"center right\")\n",
    "ax.set_title(\"Pourcentage du CA total par pays au mois de Novembre\", y=1.1, fontsize = 14, color='w')\n",
    "plt.show()"
   ]
  },
  {
   "cell_type": "code",
   "execution_count": 0,
   "metadata": {
    "colab": {
     "base_uri": "https://localhost:8080/",
     "height": 293
    },
    "colab_type": "code",
    "id": "O609PE0-atNk",
    "outputId": "d2b07df9-d411-4087-975b-138074ac9461"
   },
   "outputs": [
    {
     "data": {
      "image/png": "[encoded data removed]",
      "text/plain": [
       "<Figure size 432x288 with 1 Axes>"
      ]
     },
     "metadata": {
      "tags": []
     },
     "output_type": "display_data"
    }
   ],
   "source": [
    "fig6 = df_Nov.groupby(df_Nov.Week_day)['money_spent'].sum()\n",
    "\n",
    "explode = (0.0,0.0,0.1,0.1,0.0,0.0,0.0)\n",
    "fig, ax = plt.subplots()\n",
    "ax.pie(fig6, autopct='%1.1f%%', shadow=True, startangle=90, explode=explode, radius=1.2)\n",
    "fig.legend(fig6.index, loc=\"center right\")\n",
    "ax.set_title(\"Répartition des ventes par jour de la semaine au mois de Novembre\", y=1.1, fontsize = 14, color='w')\n",
    "plt.show()"
   ]
  },
  {
   "cell_type": "code",
   "execution_count": 0,
   "metadata": {
    "colab": {},
    "colab_type": "code",
    "id": "rFoygE_2M4ur"
   },
   "outputs": [],
   "source": [
    "fig5 = df_Nov.groupby(df_Nov.country)['money_spent'].sum()\n",
    "\n",
    "explode = (0.0,0.0,0.0,0.0,0.1,0.0,0.0,0.1,0.1)\n",
    "fig, ax = plt.subplots()\n",
    "ax.pie(fig5, autopct='%1.1f%%', shadow=True, startangle=90, explode=explode, radius=1.2)\n",
    "fig.legend(fig5.index, loc=\"center right\")\n",
    "ax.set_title(\"Pourcentage du CA total par pays au mois de Novembre\", y=1.1, fontsize = 14, color='w')\n",
    "plt.show()"
   ]
  },
  {
   "cell_type": "markdown",
   "metadata": {
    "colab_type": "text",
    "id": "2MkBjBF1lpjd"
   },
   "source": [
    "#### 2. Compte tenu de ce que vous trouverez, faites des recommendations sur les prochaines étapes à suivre"
   ]
  },
  {
   "cell_type": "markdown",
   "metadata": {
    "colab_type": "text",
    "id": "rSZyC6RubJDe"
   },
   "source": [
    "#### 3. Le referral program n'a pas été mis en place de manière rigoureuse. Pourriez vous proposer une manière plus statistique de mettre en place le prochain programme ? Donnez en tous cas les risques que cela représente"
   ]
  },
  {
   "cell_type": "markdown",
   "metadata": {
    "colab_type": "text",
    "id": "nJTernNRlycw"
   },
   "source": [
    "- Certains utilisateurs déjà clients en octobre sont parrainés en novembre\n"
   ]
  },
  {
   "cell_type": "code",
   "execution_count": 0,
   "metadata": {
    "colab": {},
    "colab_type": "code",
    "id": "Hof66W5jl7tO"
   },
   "outputs": [],
   "source": []
  }
 ],
 "metadata": {
  "accelerator": "GPU",
  "colab": {
   "name": "Coding_Challenge2.ipynb",
   "provenance": [],
   "toc_visible": true
  },
  "kernelspec": {
   "display_name": "Python 3",
   "language": "python",
   "name": "python3"
  },
  "language_info": {
   "codemirror_mode": {
    "name": "ipython",
    "version": 3
   },
   "file_extension": ".py",
   "mimetype": "text/x-python",
   "name": "python",
   "nbconvert_exporter": "python",
   "pygments_lexer": "ipython3",
   "version": "3.8.3"
  }
 },
 "nbformat": 4,
 "nbformat_minor": 1
}
